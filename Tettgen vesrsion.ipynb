{
 "cells": [
  {
   "cell_type": "code",
   "execution_count": 1,
   "id": "db4444fc",
   "metadata": {},
   "outputs": [],
   "source": [
    "import pyvista as pv\n",
    "import pyvista.examples\n",
    "import torch\n",
    "opts = {'jupyter_backend': 'pythreejs', 'window_size' : [800, 350]}\n",
    "import numpy as np\n",
    "import math\n",
    "import tetgen"
   ]
  },
  {
   "cell_type": "markdown",
   "id": "3a362150",
   "metadata": {},
   "source": [
    "Need for Tetgen"
   ]
  },
  {
   "cell_type": "code",
   "execution_count": 2,
   "id": "56157ad0",
   "metadata": {},
   "outputs": [
    {
     "name": "stdout",
     "output_type": "stream",
     "text": [
      "Requirement already satisfied: pymeshfix in /home/emil/miniconda3/envs/dumux/lib/python3.9/site-packages (0.15.0)\n",
      "Requirement already satisfied: numpy>1.11.0 in /home/emil/miniconda3/envs/dumux/lib/python3.9/site-packages (from pymeshfix) (1.21.2)\n",
      "Requirement already satisfied: pyvista>=0.30.0 in /home/emil/miniconda3/envs/dumux/lib/python3.9/site-packages (from pymeshfix) (0.33.3)\n",
      "Requirement already satisfied: scooby>=0.5.1 in /home/emil/miniconda3/envs/dumux/lib/python3.9/site-packages (from pyvista>=0.30.0->pymeshfix) (0.5.12)\n",
      "Requirement already satisfied: pillow in /home/emil/miniconda3/envs/dumux/lib/python3.9/site-packages (from pyvista>=0.30.0->pymeshfix) (9.0.1)\n",
      "Requirement already satisfied: vtk in /home/emil/miniconda3/envs/dumux/lib/python3.9/site-packages (from pyvista>=0.30.0->pymeshfix) (9.1.0)\n",
      "Requirement already satisfied: imageio in /home/emil/miniconda3/envs/dumux/lib/python3.9/site-packages (from pyvista>=0.30.0->pymeshfix) (2.16.1)\n",
      "Requirement already satisfied: appdirs in /home/emil/miniconda3/envs/dumux/lib/python3.9/site-packages (from pyvista>=0.30.0->pymeshfix) (1.4.4)\n",
      "Requirement already satisfied: matplotlib>=2.0.0 in /home/emil/miniconda3/envs/dumux/lib/python3.9/site-packages (from vtk->pyvista>=0.30.0->pymeshfix) (3.5.1)\n",
      "Requirement already satisfied: wslink>=1.0.4 in /home/emil/miniconda3/envs/dumux/lib/python3.9/site-packages (from vtk->pyvista>=0.30.0->pymeshfix) (1.4.3)\n",
      "Requirement already satisfied: python-dateutil>=2.7 in /home/emil/miniconda3/envs/dumux/lib/python3.9/site-packages (from matplotlib>=2.0.0->vtk->pyvista>=0.30.0->pymeshfix) (2.8.2)\n",
      "Requirement already satisfied: pyparsing>=2.2.1 in /home/emil/miniconda3/envs/dumux/lib/python3.9/site-packages (from matplotlib>=2.0.0->vtk->pyvista>=0.30.0->pymeshfix) (3.0.4)\n",
      "Requirement already satisfied: packaging>=20.0 in /home/emil/miniconda3/envs/dumux/lib/python3.9/site-packages (from matplotlib>=2.0.0->vtk->pyvista>=0.30.0->pymeshfix) (21.3)\n",
      "Requirement already satisfied: kiwisolver>=1.0.1 in /home/emil/miniconda3/envs/dumux/lib/python3.9/site-packages (from matplotlib>=2.0.0->vtk->pyvista>=0.30.0->pymeshfix) (1.3.2)\n",
      "Requirement already satisfied: cycler>=0.10 in /home/emil/miniconda3/envs/dumux/lib/python3.9/site-packages (from matplotlib>=2.0.0->vtk->pyvista>=0.30.0->pymeshfix) (0.11.0)\n",
      "Requirement already satisfied: fonttools>=4.22.0 in /home/emil/miniconda3/envs/dumux/lib/python3.9/site-packages (from matplotlib>=2.0.0->vtk->pyvista>=0.30.0->pymeshfix) (4.25.0)\n",
      "Requirement already satisfied: six>=1.5 in /home/emil/miniconda3/envs/dumux/lib/python3.9/site-packages (from python-dateutil>=2.7->matplotlib>=2.0.0->vtk->pyvista>=0.30.0->pymeshfix) (1.16.0)\n",
      "Requirement already satisfied: aiohttp in /home/emil/miniconda3/envs/dumux/lib/python3.9/site-packages (from wslink>=1.0.4->vtk->pyvista>=0.30.0->pymeshfix) (3.8.1)\n",
      "Requirement already satisfied: yarl<2.0,>=1.0 in /home/emil/miniconda3/envs/dumux/lib/python3.9/site-packages (from aiohttp->wslink>=1.0.4->vtk->pyvista>=0.30.0->pymeshfix) (1.7.2)\n",
      "Requirement already satisfied: frozenlist>=1.1.1 in /home/emil/miniconda3/envs/dumux/lib/python3.9/site-packages (from aiohttp->wslink>=1.0.4->vtk->pyvista>=0.30.0->pymeshfix) (1.3.0)\n",
      "Requirement already satisfied: multidict<7.0,>=4.5 in /home/emil/miniconda3/envs/dumux/lib/python3.9/site-packages (from aiohttp->wslink>=1.0.4->vtk->pyvista>=0.30.0->pymeshfix) (6.0.2)\n",
      "Requirement already satisfied: charset-normalizer<3.0,>=2.0 in /home/emil/miniconda3/envs/dumux/lib/python3.9/site-packages (from aiohttp->wslink>=1.0.4->vtk->pyvista>=0.30.0->pymeshfix) (2.0.12)\n",
      "Requirement already satisfied: aiosignal>=1.1.2 in /home/emil/miniconda3/envs/dumux/lib/python3.9/site-packages (from aiohttp->wslink>=1.0.4->vtk->pyvista>=0.30.0->pymeshfix) (1.2.0)\n",
      "Requirement already satisfied: async-timeout<5.0,>=4.0.0a3 in /home/emil/miniconda3/envs/dumux/lib/python3.9/site-packages (from aiohttp->wslink>=1.0.4->vtk->pyvista>=0.30.0->pymeshfix) (4.0.2)\n",
      "Requirement already satisfied: attrs>=17.3.0 in /home/emil/miniconda3/envs/dumux/lib/python3.9/site-packages (from aiohttp->wslink>=1.0.4->vtk->pyvista>=0.30.0->pymeshfix) (21.4.0)\n",
      "Requirement already satisfied: idna>=2.0 in /home/emil/miniconda3/envs/dumux/lib/python3.9/site-packages (from yarl<2.0,>=1.0->aiohttp->wslink>=1.0.4->vtk->pyvista>=0.30.0->pymeshfix) (3.3)\n"
     ]
    }
   ],
   "source": [
    "!pip install pymeshfix #### Need for Tetgen"
   ]
  },
  {
   "cell_type": "code",
   "execution_count": 3,
   "id": "694c96b2",
   "metadata": {},
   "outputs": [],
   "source": [
    "import pymeshfix"
   ]
  },
  {
   "cell_type": "markdown",
   "id": "7a227711",
   "metadata": {},
   "source": [
    "## Defining function and constants##"
   ]
  },
  {
   "cell_type": "markdown",
   "id": "348208c6",
   "metadata": {},
   "source": [
    "\\begin{array}{lccc}\n",
    "\\hline \\text { Parameter } & \\text { Symbol } & \\text { Value } & \\text { Units } \\\\\n",
    "\\hline \\text { Brine density } & \\rho_{\\mathrm{w}} & 1100 & \\mathrm{~kg} \\mathrm{~m}^{-3} \\\\\n",
    "\\text { Brine viscosity } & \\mu_{\\mathrm{w}} & 900 & \\mu \\mathrm{Pa} \\mathrm{s} \\\\\n",
    "\\mathrm{CO}_{2} \\text { density } & \\rho_{\\mathrm{n}} & 720 & \\mathrm{~kg} \\mathrm{~m}^{-3} \\\\\n",
    "\\mathrm{CO}_{2} \\text { viscosity } & \\mu_{\\mathrm{n}} & 60 & \\mu \\mathrm{Pa} \\mathrm{s} \\\\\n",
    "\\text { Rock density } & \\rho_{\\mathrm{s}} & 2670 & \\mathrm{~kg} \\mathrm{~m}^{-3} \\\\\n",
    "\\text { Rock porosity } & \\phi & 0.15 & - \\\\\n",
    "\\mathrm{CO}_{2} \\text { relative permeability } & k_{\\mathrm{rn}} & 0.3948 & - \\\\\n",
    "\\text { Brine relative permeability } & k_{\\mathrm{rw}} & 1 & - \\\\\n",
    "\\text { Brine residual saturation } & S_{\\mathrm{rw}} & 0.4438 & - \\\\\n",
    "\\text { Well/reservoir height } & H & 170 & \\mathrm{~m} \\\\\n",
    "\\mathrm{CO}_{2} \\text { mass injection rate } & M_{\\mathrm{n}} & 20 & \\mathrm{~kg} \\mathrm{~s}^{-1} \\\\\n",
    "\\hline\n",
    "\\end{array}"
   ]
  },
  {
   "cell_type": "code",
   "execution_count": 6,
   "id": "5504565e",
   "metadata": {},
   "outputs": [],
   "source": [
    "k_rn = 0.3948\n",
    "k_rw = 1\n",
    "S_rw= 0.4438\n",
    "mu_n = 60\n",
    "mu_w = 900\n",
    "rho_n = 720\n",
    "rho_s = 2670\n",
    "phi = 0.15\n",
    "H = 1 ###!!!!! Indeed it is not real H. I used it because all warks with it !!!!!\n",
    "M_n = 20\n",
    "gamma = ((mu_n)*(k_rw))/((mu_w)*(k_rn))\n",
    "theta = ((M_n)/((math.pi)*H*phi*(1-S_rw)*(rho_n)*gamma))**(0.5)\n",
    "t=1\n",
    "t2 = 10"
   ]
  },
  {
   "cell_type": "markdown",
   "id": "d3435f2b",
   "metadata": {},
   "source": [
    "$$ h(x, t) \\approx \\begin{cases}H & ; x \\leq \\gamma \\theta \\sqrt{t} \\\\ \\frac{H \\gamma \\theta}{1-\\gamma} \\frac{\\sqrt{t}}{x}-\\frac{H \\gamma}{1-\\gamma} & ; \\gamma \\theta \\sqrt{t}<x<\\theta \\sqrt{t} \\\\ 0 & ; \\theta \\sqrt{t} \\leq x\\end{cases} $$"
   ]
  },
  {
   "cell_type": "markdown",
   "id": "0e7ec94d",
   "metadata": {},
   "source": [
    "$$\n",
    "\\gamma=\\frac{\\mu_{\\mathrm{n}} k_{\\mathrm{rw}}}{k_{\\mathrm{rn}} \\mu_{\\mathrm{w}}} , \\theta=\\sqrt{\\frac{M_{n}}{\\pi H \\phi\\left(1-S_{\\mathrm{rw}}\\right) \\rho_{\\mathrm{n}} \\gamma}}\n",
    "$$"
   ]
  },
  {
   "cell_type": "code",
   "execution_count": 7,
   "id": "27875aca",
   "metadata": {},
   "outputs": [],
   "source": [
    "def plum_thikness2d (H, gamma, theta, m , t):\n",
    "    if (m <= (gamma*theta*t**(0.5))):\n",
    "        h = H\n",
    "    if ((m > (gamma*theta*(t**(0.5)))) and (m < (theta*(t**(0.5)))) ):\n",
    "        h = ((H*gamma*theta)/(1-gamma))*(t**(0.5))/(m) - (H*gamma)/(1-gamma)\n",
    "    if (m >= (theta*t**(0.5))) :\n",
    "        h = 0\n",
    "    return h"
   ]
  },
  {
   "cell_type": "markdown",
   "id": "b6d148b2",
   "metadata": {},
   "source": [
    "Create array for our manifold. xyz - for layer. It is better to run only one layer first time"
   ]
  },
  {
   "cell_type": "code",
   "execution_count": 8,
   "id": "6951e832",
   "metadata": {},
   "outputs": [],
   "source": [
    "xyz = np.zeros((20,20,20)) #создаем CO2 слой в момент времени 1\n",
    "\n",
    "#xyz2 = np.zeros((20,20,20))#создаем CO2 слой в момент времени 2"
   ]
  },
  {
   "cell_type": "markdown",
   "id": "b3cb62ea",
   "metadata": {},
   "source": [
    "Fill the array \n"
   ]
  },
  {
   "cell_type": "code",
   "execution_count": 15,
   "id": "930035b5",
   "metadata": {},
   "outputs": [],
   "source": [
    "func = [] \n",
    "for i in range(20):\n",
    "    for j in range(20):\n",
    "        var_y = -1 + j*0.1\n",
    "        for k in range(20):\n",
    "            var_x = -1 + k*0.1\n",
    "            var = var_x * var_x + var_y * var_y # радиус x^2+y^2\n",
    "            mass = np.asarray([var_x,var_y,1 - plum_thikness2d (H, gamma, theta, var , t)]) # see  description **\n",
    "            func.append(mass) ##   see  description**\n",
    "            xyz[i][j][k] = plum_thikness2d (H, gamma, theta, var , t) # This type of array we need if we wont color mesh ( this\n",
    "            # way like in you notebook (pyvista)"
   ]
  },
  {
   "cell_type": "markdown",
   "id": "9e746d94",
   "metadata": {},
   "source": [
    "** We need this because as a result we want to have array of point wich looks like: [ (x1,y1,z1), (x2,y2,z2) ... (xn,yn,zn) ]. Because it is type of PolyData that we need. After we convert list to array"
   ]
  },
  {
   "cell_type": "markdown",
   "id": "a759e2c4",
   "metadata": {},
   "source": [
    "Use it if you want add another mesh"
   ]
  },
  {
   "cell_type": "code",
   "execution_count": 70,
   "id": "cbb83f36",
   "metadata": {},
   "outputs": [
    {
     "data": {
      "text/plain": [
       "'\\nfunc2 = [] \\nfor i in range(20):\\n    for j in range(20):\\n        var_y2 = -1 + j*0.1\\n        for k in range(20):\\n            var_x2 = -1 + k*0.1\\n            var2 = var_x2 * var_x2 + var_y2 * var_y2 # радиус x^2+y^2\\n            mass2 = np.asarray([var_x2,var_y2,plum_thikness2d (H, gamma, theta, var2 , t2)])\\n            xyz2[i][j][k] = plum_thikness2d (H, gamma, theta, var2 , t2)\\n            func2.append(mass2)\\n'"
      ]
     },
     "execution_count": 70,
     "metadata": {},
     "output_type": "execute_result"
    }
   ],
   "source": [
    "\"\"\"\n",
    "func2 = [] \n",
    "for i in range(20):\n",
    "    for j in range(20):\n",
    "        var_y2 = -1 + j*0.1\n",
    "        for k in range(20):\n",
    "            var_x2 = -1 + k*0.1\n",
    "            var2 = var_x2 * var_x2 + var_y2 * var_y2 # радиус x^2+y^2\n",
    "            mass2 = np.asarray([var_x2,var_y2,plum_thikness2d (H, gamma, theta, var2 , t2)])\n",
    "            xyz2[i][j][k] = plum_thikness2d (H, gamma, theta, var2 , t2)\n",
    "            func2.append(mass2)\n",
    "\"\"\"            "
   ]
  },
  {
   "cell_type": "code",
   "execution_count": 16,
   "id": "a302239a",
   "metadata": {},
   "outputs": [],
   "source": [
    "func = np.asarray(func) ##We had list but we need array\n",
    "#func2 = np.asarray(func2) ## Use it if you want add another mesh"
   ]
  },
  {
   "cell_type": "code",
   "execution_count": 17,
   "id": "2e6e0493",
   "metadata": {},
   "outputs": [],
   "source": [
    "point_cloud = pv.PolyData(func)\n",
    "#point_cloud2 = pv.PolyData(func2) # Use it if you want add another mesh"
   ]
  },
  {
   "cell_type": "code",
   "execution_count": 18,
   "id": "a0991849",
   "metadata": {},
   "outputs": [],
   "source": [
    "#point_cloud2.plot(point_size=10, style='points', **opts) ## Use it if you want add another mesh"
   ]
  },
  {
   "cell_type": "markdown",
   "id": "13f8c458",
   "metadata": {},
   "source": [
    "At firs we need to create surface of C02. Now it is just 2d triangulation. We will use it to create 3d "
   ]
  },
  {
   "cell_type": "code",
   "execution_count": 19,
   "id": "57048017",
   "metadata": {},
   "outputs": [],
   "source": [
    "tmesh = point_cloud.delaunay_2d()\n",
    "#tmesh2 = point_cloud2.delaunay_2d() ## Use it if you want add another mesh"
   ]
  },
  {
   "cell_type": "markdown",
   "id": "0b6e02a0",
   "metadata": {},
   "source": [
    "To be sure about we have normal manifold "
   ]
  },
  {
   "cell_type": "code",
   "execution_count": 22,
   "id": "18f79731",
   "metadata": {},
   "outputs": [
    {
     "data": {
      "application/vnd.jupyter.widget-view+json": {
       "model_id": "572a048502da4c37adc2c8a796759d41",
       "version_major": 2,
       "version_minor": 0
      },
      "text/plain": [
       "Renderer(camera=PerspectiveCamera(aspect=2.2857142857142856, children=(DirectionalLight(color='#fefefe', inten…"
      ]
     },
     "metadata": {},
     "output_type": "display_data"
    }
   ],
   "source": [
    "pl = pv.Plotter()\n",
    "pl.add_mesh(tmesh, show_edges=True, color='white', opacity=0.5)\n",
    "pl.add_points(tmesh.points, color='red', point_size=20)\n",
    "pl.show(**opts)"
   ]
  },
  {
   "cell_type": "markdown",
   "id": "6c81c23a",
   "metadata": {},
   "source": [
    "To make 3d triangulation we need to close this surface. This could be done by pymesh fix. As a result our surface will become manifold. This is important beacuse tetgen works only with manifold"
   ]
  },
  {
   "cell_type": "code",
   "execution_count": 24,
   "id": "bc9890d3",
   "metadata": {},
   "outputs": [],
   "source": [
    "fixer = pymeshfix.MeshFix(tmesh)\n",
    "fixer.repair(joincomp=True, remove_smallest_components=False)\n",
    "#fixer2 = pymeshfix.MeshFix(tmesh2) ## Use it if you want add another mesh\n",
    "#fixer2.repair(joincomp=True, remove_smallest_components=False) ## Use it if you want add another mesh"
   ]
  },
  {
   "cell_type": "code",
   "execution_count": 26,
   "id": "8a387ab4",
   "metadata": {},
   "outputs": [
    {
     "data": {
      "application/vnd.jupyter.widget-view+json": {
       "model_id": "45616fe925cd4f83b4f0c59e23cb441b",
       "version_major": 2,
       "version_minor": 0
      },
      "text/plain": [
       "Renderer(camera=PerspectiveCamera(aspect=2.2857142857142856, children=(DirectionalLight(color='#fefefe', inten…"
      ]
     },
     "metadata": {},
     "output_type": "display_data"
    }
   ],
   "source": [
    "fixer.mesh.plot(**opts)"
   ]
  },
  {
   "cell_type": "markdown",
   "id": "1932be7e",
   "metadata": {},
   "source": [
    "We created proper manifold "
   ]
  },
  {
   "cell_type": "code",
   "execution_count": 27,
   "id": "f391a252",
   "metadata": {},
   "outputs": [],
   "source": [
    "newmesh = fixer.mesh\n",
    "#newmesh2 = fixer2.mesh ## Use it if you want add another mesh"
   ]
  },
  {
   "cell_type": "markdown",
   "id": "03061f97",
   "metadata": {},
   "source": [
    "## 3d triangulation with Tetgen ##"
   ]
  },
  {
   "cell_type": "markdown",
   "id": "a4bfa776",
   "metadata": {},
   "source": [
    "It lookds like 2d but indeed is 3d. You can exptract cell and see that there are sell in this manifold"
   ]
  },
  {
   "cell_type": "code",
   "execution_count": 40,
   "id": "e3367d4a",
   "metadata": {},
   "outputs": [
    {
     "data": {
      "application/vnd.jupyter.widget-view+json": {
       "model_id": "50e1f235cb284bafaa7b8a1e1176b5a9",
       "version_major": 2,
       "version_minor": 0
      },
      "text/plain": [
       "Renderer(camera=PerspectiveCamera(aspect=2.2857142857142856, children=(DirectionalLight(color='#fefefe', inten…"
      ]
     },
     "metadata": {},
     "output_type": "display_data"
    }
   ],
   "source": [
    "tett  = tetgen.TetGen(newmesh )\n",
    "tett.tetrahedralize(order=1, mindihedral=20, minratio=1.5)\n",
    "grid = tett.grid\n",
    "#tett2  = tetgen.TetGen(newmesh2 ) ##Use it if you want add another mesh\n",
    "#tett2.tetrahedralize(order=1, mindihedral=20, minratio=1.5) ##\n",
    "#grid2 = tett2.grid ##\n",
    "grid.plot(show_edges=True, opacity = 0.8, **opts)"
   ]
  },
  {
   "cell_type": "markdown",
   "id": "4b8e905d",
   "metadata": {},
   "source": [
    "You need to scroll away a little to see picture and rotate. After you will slice with see triangulation"
   ]
  },
  {
   "cell_type": "code",
   "execution_count": 41,
   "id": "6267d5ae",
   "metadata": {},
   "outputs": [
    {
     "data": {
      "application/vnd.jupyter.widget-view+json": {
       "model_id": "3e01ca8326d04697b32bd895bcb822d1",
       "version_major": 2,
       "version_minor": 0
      },
      "text/plain": [
       "Renderer(camera=PerspectiveCamera(aspect=2.2857142857142856, children=(DirectionalLight(color='#fefefe', inten…"
      ]
     },
     "metadata": {},
     "output_type": "display_data"
    }
   ],
   "source": [
    "#1. get cell centroids. Th\n",
    "cells = grid.cells.reshape(-1, 5)[:, 1:]\n",
    "cell_center = grid.points[cells].mean(1)\n",
    "\n",
    "#2. extract cells below the 0 xy plane\n",
    "mask = cell_center[:, 1] < 0.1\n",
    "cell_ind = mask.nonzero()[0]\n",
    "subgrid = grid.extract_cells(cell_ind)\n",
    "\n",
    "# get cell centroids\n",
    "#cells2 = grid2.cells.reshape(-1, 5)[:, 1:]\n",
    "#cell_center2 = grid2.points[cells2].mean(1)\n",
    "\n",
    "# extract cells below the 0 xy plane\n",
    "#mask2 = cell_center2[:, 1] < 0.1\n",
    "#cell_ind = mask2.nonzero()[0]\n",
    "#subgrid2 = grid2.extract_cells(cell_ind)\n",
    "\n",
    "\n",
    "#adding soil\n",
    "soil1 = pyvista.Cube(x_length=4.0, y_length=2.0, z_length=2.0, clean= True)\n",
    "soil2 = pyvista.Cube(center=(0.0,0.0,-2), x_length=4.0, y_length=2.0, z_length=2.0, bounds=None, clean=True)\n",
    "soil3 = pyvista.Cube(center=(0.0,0.0,+2), x_length=4.0, y_length=2.0, z_length=2.0, bounds=None, clean=True)\n",
    "\n",
    "## adding detecotr\n",
    "detector = pyvista.Cube(center=(0.0,0.0,-3), x_length=0.2, y_length=0.2, z_length=0.2, bounds=None, clean=True)\n",
    "\n",
    "# postion of camera\n",
    "plotter = pv.Plotter()\n",
    "plotter.camera_position ='xy' #(-1, 1.0, 1.0)\n",
    "#plotter.camera.roll += 10\n",
    "\n",
    "#CO2 in t = 1\n",
    "\n",
    "plotter.add_mesh(subgrid, 'grey', lighting=True, show_edges=True)\n",
    "plotter.add_mesh(grid, 'r', 'wireframe')\n",
    "\n",
    "#CO2 in t = 10\n",
    "#plotter.add_mesh(subgrid2, 'black', opacity = 0.7 ,lighting=True, show_edges=True)\n",
    "#plotter.add_mesh(grid2, 'black', 'wireframe')\n",
    "#plot soil\n",
    "plotter.add_mesh(soil1, 'brown', opacity = 0.7)\n",
    "plotter.add_mesh(soil2, 'gold', opacity = 0.7)\n",
    "plotter.add_mesh(soil3, 'green', opacity = 0.7)\n",
    "\n",
    "#plot detecotr\n",
    "plotter.add_mesh(detector, 'purple')\n",
    "\n",
    "#plot ray trace\n",
    "# Define line segment\n",
    "start = [0, 0, -3]\n",
    "stop = [1, 1, 4]\n",
    "\n",
    "# Perform ray trace\n",
    "a = [0, 0, -3]\n",
    "b = [1, 1, 4]\n",
    "line = pv.Line(a, b)\n",
    "p = pv.Plotter()\n",
    "plotter.add_mesh(line, color=\"purple\")\n",
    "#intersection = pv.PolyData(points)\n",
    "plotter.add_legend([[' Input Mesh ', 'r'],\n",
    "                    [' Tessellated Mesh ', 'black']])\n",
    "plotter.show(**opts)"
   ]
  },
  {
   "cell_type": "markdown",
   "id": "720a7211",
   "metadata": {},
   "source": [
    "## Way you suggest ##"
   ]
  },
  {
   "cell_type": "markdown",
   "id": "2f65540b",
   "metadata": {},
   "source": [
    " I tried but i have sufficient progress"
   ]
  },
  {
   "cell_type": "code",
   "execution_count": 32,
   "id": "7f59174d",
   "metadata": {},
   "outputs": [],
   "source": [
    "grid = pv.UniformGrid()\n",
    "# Set the spatial reference\n",
    "grid.dimensions = np.array(xyz.shape) +1 #dim + 1 because cells\n",
    "grid.origin = (0, 0, 0)\n",
    "grid.spacing = (1, 1, 1)"
   ]
  },
  {
   "cell_type": "code",
   "execution_count": 33,
   "id": "4ceb614f",
   "metadata": {},
   "outputs": [],
   "source": [
    "grid['data'] = xyz.ravel(order='F')"
   ]
  },
  {
   "cell_type": "code",
   "execution_count": 34,
   "id": "64fd9929",
   "metadata": {},
   "outputs": [
    {
     "data": {
      "application/vnd.jupyter.widget-view+json": {
       "model_id": "ead91410bea04876b25a15f4718d4b8f",
       "version_major": 2,
       "version_minor": 0
      },
      "text/plain": [
       "Renderer(camera=PerspectiveCamera(aspect=2.2857142857142856, children=(DirectionalLight(color='#fefefe', inten…"
      ]
     },
     "metadata": {},
     "output_type": "display_data"
    }
   ],
   "source": [
    "grid.plot(show_grid=True, show_edges=True, opacity=0.4, **opts)"
   ]
  },
  {
   "cell_type": "code",
   "execution_count": 35,
   "id": "10e695ce",
   "metadata": {},
   "outputs": [
    {
     "data": {
      "application/vnd.jupyter.widget-view+json": {
       "model_id": "5910c0d58775413796a01b72f54fef79",
       "version_major": 2,
       "version_minor": 0
      },
      "text/plain": [
       "Renderer(camera=PerspectiveCamera(aspect=2.2857142857142856, children=(DirectionalLight(color='#fefefe', inten…"
      ]
     },
     "metadata": {},
     "output_type": "display_data"
    }
   ],
   "source": [
    "gridpoints = pv.PolyData(grid.points)\n",
    "gridpoints.plot(point_size=20, style='points', **opts)"
   ]
  },
  {
   "cell_type": "code",
   "execution_count": 36,
   "id": "490d888d",
   "metadata": {},
   "outputs": [],
   "source": [
    "tmesh = gridpoints.delaunay_3d()"
   ]
  },
  {
   "cell_type": "code",
   "execution_count": 57,
   "id": "ed5c0099",
   "metadata": {},
   "outputs": [
    {
     "data": {
      "application/vnd.jupyter.widget-view+json": {
       "model_id": "f8f1cf152de24c848c4ee6c942e5dfb0",
       "version_major": 2,
       "version_minor": 0
      },
      "text/plain": [
       "Renderer(camera=PerspectiveCamera(aspect=2.2857142857142856, children=(DirectionalLight(color='#fefefe', inten…"
      ]
     },
     "metadata": {},
     "output_type": "display_data"
    }
   ],
   "source": [
    "pl = pv.Plotter()\n",
    "pl.add_mesh(tmesh, show_edges=True, color='white', opacity=0.5)\n",
    "pl.add_points(tmesh.points, color='red', point_size=20)\n",
    "pl.show(**opts)"
   ]
  },
  {
   "cell_type": "code",
   "execution_count": null,
   "id": "224ad05d",
   "metadata": {},
   "outputs": [],
   "source": []
  }
 ],
 "metadata": {
  "kernelspec": {
   "display_name": "Python 3 (ipykernel)",
   "language": "python",
   "name": "python3"
  },
  "language_info": {
   "codemirror_mode": {
    "name": "ipython",
    "version": 3
   },
   "file_extension": ".py",
   "mimetype": "text/x-python",
   "name": "python",
   "nbconvert_exporter": "python",
   "pygments_lexer": "ipython3",
   "version": "3.9.7"
  }
 },
 "nbformat": 4,
 "nbformat_minor": 5
}
